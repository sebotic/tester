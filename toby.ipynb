{
 "cells": [
  {
   "cell_type": "code",
   "execution_count": 1,
   "metadata": {
    "collapsed": true
   },
   "outputs": [],
   "source": [
    "import pandas as pd\n",
    "\n",
    "from pandas.io.json import json_normalize\n",
    "from SPARQLWrapper import SPARQLWrapper, JSON"
   ]
  },
  {
   "cell_type": "code",
   "execution_count": 2,
   "metadata": {
    "collapsed": true
   },
   "outputs": [],
   "source": [
    "def query(s):\n",
    "    # this will run the query and turn the results into a table that you can process\n",
    "    # results are returned as a pandas dataframe\n",
    "    sparql = SPARQLWrapper(\"https://query.wikidata.org/sparql\")\n",
    "    \n",
    "    sparql.setQuery(s)\n",
    "    sparql.setReturnFormat(JSON)\n",
    "\n",
    "    res = sparql.query().convert()\n",
    "    return json_normalize(res[\"results\"][\"bindings\"])"
   ]
  },
  {
   "cell_type": "markdown",
   "metadata": {},
   "source": [
    "## Run our SPARQL query"
   ]
  },
  {
   "cell_type": "code",
   "execution_count": 3,
   "metadata": {
    "collapsed": true
   },
   "outputs": [],
   "source": [
    "s = \"\"\"SELECT ?drug ?drugLabel ?gene ?geneLabel ?entrez_id ?disease ?diseaseLabel WHERE {\n",
    "      ?drug wdt:P129 ?gene_product .   # drug interacts with a gene_product \n",
    "      ?gene_product wdt:P702 ?gene .  # gene_product is encoded by a gene\n",
    "      ?gene wdt:P2293 ?disease .    # gene is genetically associated with a disease \n",
    "      ?gene wdt:P351 ?entrez_id .  # get the entrez gene id for the gene \n",
    "      # add labels\n",
    "      SERVICE wikibase:label {\n",
    "            bd:serviceParam wikibase:language \"en\" .\n",
    "      }\n",
    "    }\n",
    "    limit %d\n",
    "    \"\"\" % (1000)\n",
    "\n",
    "res = query(s)"
   ]
  },
  {
   "cell_type": "code",
   "execution_count": 4,
   "metadata": {
    "collapsed": false
   },
   "outputs": [
    {
     "data": {
      "text/plain": [
       "(595, 17)"
      ]
     },
     "execution_count": 4,
     "metadata": {},
     "output_type": "execute_result"
    }
   ],
   "source": [
    "res.shape"
   ]
  },
  {
   "cell_type": "code",
   "execution_count": 5,
   "metadata": {
    "collapsed": false,
    "scrolled": false
   },
   "outputs": [
    {
     "data": {
      "text/html": [
       "<div>\n",
       "<table border=\"1\" class=\"dataframe\">\n",
       "  <thead>\n",
       "    <tr style=\"text-align: right;\">\n",
       "      <th></th>\n",
       "      <th>disease.type</th>\n",
       "      <th>disease.value</th>\n",
       "      <th>diseaseLabel.type</th>\n",
       "      <th>diseaseLabel.value</th>\n",
       "      <th>diseaseLabel.xml:lang</th>\n",
       "      <th>drug.type</th>\n",
       "      <th>drug.value</th>\n",
       "      <th>drugLabel.type</th>\n",
       "      <th>drugLabel.value</th>\n",
       "      <th>drugLabel.xml:lang</th>\n",
       "      <th>entrez_id.type</th>\n",
       "      <th>entrez_id.value</th>\n",
       "      <th>gene.type</th>\n",
       "      <th>gene.value</th>\n",
       "      <th>geneLabel.type</th>\n",
       "      <th>geneLabel.value</th>\n",
       "      <th>geneLabel.xml:lang</th>\n",
       "    </tr>\n",
       "  </thead>\n",
       "  <tbody>\n",
       "    <tr>\n",
       "      <th>0</th>\n",
       "      <td>uri</td>\n",
       "      <td>http://www.wikidata.org/entity/Q12174</td>\n",
       "      <td>literal</td>\n",
       "      <td>obesity</td>\n",
       "      <td>en</td>\n",
       "      <td>uri</td>\n",
       "      <td>http://www.wikidata.org/entity/Q60235</td>\n",
       "      <td>literal</td>\n",
       "      <td>Caffeine</td>\n",
       "      <td>en</td>\n",
       "      <td>literal</td>\n",
       "      <td>140</td>\n",
       "      <td>uri</td>\n",
       "      <td>http://www.wikidata.org/entity/Q4682275</td>\n",
       "      <td>literal</td>\n",
       "      <td>adenosine A3 receptor</td>\n",
       "      <td>en</td>\n",
       "    </tr>\n",
       "    <tr>\n",
       "      <th>1</th>\n",
       "      <td>uri</td>\n",
       "      <td>http://www.wikidata.org/entity/Q12174</td>\n",
       "      <td>literal</td>\n",
       "      <td>obesity</td>\n",
       "      <td>en</td>\n",
       "      <td>uri</td>\n",
       "      <td>http://www.wikidata.org/entity/Q190012</td>\n",
       "      <td>literal</td>\n",
       "      <td>Adenosine</td>\n",
       "      <td>en</td>\n",
       "      <td>literal</td>\n",
       "      <td>140</td>\n",
       "      <td>uri</td>\n",
       "      <td>http://www.wikidata.org/entity/Q4682275</td>\n",
       "      <td>literal</td>\n",
       "      <td>adenosine A3 receptor</td>\n",
       "      <td>en</td>\n",
       "    </tr>\n",
       "    <tr>\n",
       "      <th>2</th>\n",
       "      <td>uri</td>\n",
       "      <td>http://www.wikidata.org/entity/Q12174</td>\n",
       "      <td>literal</td>\n",
       "      <td>obesity</td>\n",
       "      <td>en</td>\n",
       "      <td>uri</td>\n",
       "      <td>http://www.wikidata.org/entity/Q407308</td>\n",
       "      <td>literal</td>\n",
       "      <td>Theophylline</td>\n",
       "      <td>en</td>\n",
       "      <td>literal</td>\n",
       "      <td>140</td>\n",
       "      <td>uri</td>\n",
       "      <td>http://www.wikidata.org/entity/Q4682275</td>\n",
       "      <td>literal</td>\n",
       "      <td>adenosine A3 receptor</td>\n",
       "      <td>en</td>\n",
       "    </tr>\n",
       "    <tr>\n",
       "      <th>3</th>\n",
       "      <td>uri</td>\n",
       "      <td>http://www.wikidata.org/entity/Q12174</td>\n",
       "      <td>literal</td>\n",
       "      <td>obesity</td>\n",
       "      <td>en</td>\n",
       "      <td>uri</td>\n",
       "      <td>http://www.wikidata.org/entity/Q729213</td>\n",
       "      <td>literal</td>\n",
       "      <td>Nicardipine</td>\n",
       "      <td>en</td>\n",
       "      <td>literal</td>\n",
       "      <td>140</td>\n",
       "      <td>uri</td>\n",
       "      <td>http://www.wikidata.org/entity/Q4682275</td>\n",
       "      <td>literal</td>\n",
       "      <td>adenosine A3 receptor</td>\n",
       "      <td>en</td>\n",
       "    </tr>\n",
       "    <tr>\n",
       "      <th>4</th>\n",
       "      <td>uri</td>\n",
       "      <td>http://www.wikidata.org/entity/Q12174</td>\n",
       "      <td>literal</td>\n",
       "      <td>obesity</td>\n",
       "      <td>en</td>\n",
       "      <td>uri</td>\n",
       "      <td>http://www.wikidata.org/entity/Q905783</td>\n",
       "      <td>literal</td>\n",
       "      <td>Istradefylline</td>\n",
       "      <td>en</td>\n",
       "      <td>literal</td>\n",
       "      <td>140</td>\n",
       "      <td>uri</td>\n",
       "      <td>http://www.wikidata.org/entity/Q4682275</td>\n",
       "      <td>literal</td>\n",
       "      <td>adenosine A3 receptor</td>\n",
       "      <td>en</td>\n",
       "    </tr>\n",
       "  </tbody>\n",
       "</table>\n",
       "</div>"
      ],
      "text/plain": [
       "  disease.type                          disease.value diseaseLabel.type  \\\n",
       "0          uri  http://www.wikidata.org/entity/Q12174           literal   \n",
       "1          uri  http://www.wikidata.org/entity/Q12174           literal   \n",
       "2          uri  http://www.wikidata.org/entity/Q12174           literal   \n",
       "3          uri  http://www.wikidata.org/entity/Q12174           literal   \n",
       "4          uri  http://www.wikidata.org/entity/Q12174           literal   \n",
       "\n",
       "  diseaseLabel.value diseaseLabel.xml:lang drug.type  \\\n",
       "0            obesity                    en       uri   \n",
       "1            obesity                    en       uri   \n",
       "2            obesity                    en       uri   \n",
       "3            obesity                    en       uri   \n",
       "4            obesity                    en       uri   \n",
       "\n",
       "                               drug.value drugLabel.type drugLabel.value  \\\n",
       "0   http://www.wikidata.org/entity/Q60235        literal        Caffeine   \n",
       "1  http://www.wikidata.org/entity/Q190012        literal       Adenosine   \n",
       "2  http://www.wikidata.org/entity/Q407308        literal    Theophylline   \n",
       "3  http://www.wikidata.org/entity/Q729213        literal     Nicardipine   \n",
       "4  http://www.wikidata.org/entity/Q905783        literal  Istradefylline   \n",
       "\n",
       "  drugLabel.xml:lang entrez_id.type entrez_id.value gene.type  \\\n",
       "0                 en        literal             140       uri   \n",
       "1                 en        literal             140       uri   \n",
       "2                 en        literal             140       uri   \n",
       "3                 en        literal             140       uri   \n",
       "4                 en        literal             140       uri   \n",
       "\n",
       "                                gene.value geneLabel.type  \\\n",
       "0  http://www.wikidata.org/entity/Q4682275        literal   \n",
       "1  http://www.wikidata.org/entity/Q4682275        literal   \n",
       "2  http://www.wikidata.org/entity/Q4682275        literal   \n",
       "3  http://www.wikidata.org/entity/Q4682275        literal   \n",
       "4  http://www.wikidata.org/entity/Q4682275        literal   \n",
       "\n",
       "         geneLabel.value geneLabel.xml:lang  \n",
       "0  adenosine A3 receptor                 en  \n",
       "1  adenosine A3 receptor                 en  \n",
       "2  adenosine A3 receptor                 en  \n",
       "3  adenosine A3 receptor                 en  \n",
       "4  adenosine A3 receptor                 en  "
      ]
     },
     "execution_count": 5,
     "metadata": {},
     "output_type": "execute_result"
    }
   ],
   "source": [
    "res.head()"
   ]
  },
  {
   "cell_type": "markdown",
   "metadata": {},
   "source": [
    "Our results from the SPARQL query has more detail than we care about. We only want to know the names of the drug, disease, and gene columns."
   ]
  },
  {
   "cell_type": "markdown",
   "metadata": {},
   "source": [
    "## Extract only the columns we care about"
   ]
  },
  {
   "cell_type": "code",
   "execution_count": 6,
   "metadata": {
    "collapsed": false,
    "scrolled": true
   },
   "outputs": [],
   "source": [
    "good = (res\n",
    "    [[\"drugLabel.value\", \"diseaseLabel.value\", \"geneLabel.value\"]]\n",
    "    .rename(columns = lambda col: col.replace(\"Label.value\", \"\"))\n",
    ")"
   ]
  },
  {
   "cell_type": "code",
   "execution_count": 7,
   "metadata": {
    "collapsed": false
   },
   "outputs": [
    {
     "data": {
      "text/html": [
       "<div>\n",
       "<table border=\"1\" class=\"dataframe\">\n",
       "  <thead>\n",
       "    <tr style=\"text-align: right;\">\n",
       "      <th></th>\n",
       "      <th>drug</th>\n",
       "      <th>disease</th>\n",
       "      <th>gene</th>\n",
       "    </tr>\n",
       "  </thead>\n",
       "  <tbody>\n",
       "    <tr>\n",
       "      <th>0</th>\n",
       "      <td>Caffeine</td>\n",
       "      <td>obesity</td>\n",
       "      <td>adenosine A3 receptor</td>\n",
       "    </tr>\n",
       "    <tr>\n",
       "      <th>1</th>\n",
       "      <td>Adenosine</td>\n",
       "      <td>obesity</td>\n",
       "      <td>adenosine A3 receptor</td>\n",
       "    </tr>\n",
       "    <tr>\n",
       "      <th>2</th>\n",
       "      <td>Theophylline</td>\n",
       "      <td>obesity</td>\n",
       "      <td>adenosine A3 receptor</td>\n",
       "    </tr>\n",
       "    <tr>\n",
       "      <th>3</th>\n",
       "      <td>Nicardipine</td>\n",
       "      <td>obesity</td>\n",
       "      <td>adenosine A3 receptor</td>\n",
       "    </tr>\n",
       "    <tr>\n",
       "      <th>4</th>\n",
       "      <td>Istradefylline</td>\n",
       "      <td>obesity</td>\n",
       "      <td>adenosine A3 receptor</td>\n",
       "    </tr>\n",
       "  </tbody>\n",
       "</table>\n",
       "</div>"
      ],
      "text/plain": [
       "             drug  disease                   gene\n",
       "0        Caffeine  obesity  adenosine A3 receptor\n",
       "1       Adenosine  obesity  adenosine A3 receptor\n",
       "2    Theophylline  obesity  adenosine A3 receptor\n",
       "3     Nicardipine  obesity  adenosine A3 receptor\n",
       "4  Istradefylline  obesity  adenosine A3 receptor"
      ]
     },
     "execution_count": 7,
     "metadata": {},
     "output_type": "execute_result"
    }
   ],
   "source": [
    "good.head()"
   ]
  },
  {
   "cell_type": "markdown",
   "metadata": {},
   "source": [
    "We have just grabbed the three columns we care about and renamed them."
   ]
  },
  {
   "cell_type": "markdown",
   "metadata": {},
   "source": [
    "## Count the number of genes per (drug, disease) pair\n",
    "\n",
    "How many genes link each unique (drug, disease) pair? After counting, order the (drug, disease) pairs in descending order of number of linking genes."
   ]
  },
  {
   "cell_type": "code",
   "execution_count": 8,
   "metadata": {
    "collapsed": false
   },
   "outputs": [],
   "source": [
    "counts = (good\n",
    "    .groupby([\"drug\", \"disease\"], as_index = False) # group into unique (drug, disease) pairs\n",
    "    .size() # count the number of genes linking this (drug, disease) pair\n",
    "    .rename(\"gene_count\") # name the result \"gene_count\"\n",
    "    .to_frame() # change to a pandas dataframe from a series\n",
    "    .reset_index() # make the drug and disease individual columns\n",
    "    .sort_values(\"gene_count\", ascending = False) # sort in descending order\n",
    "    .reset_index(drop = True) # order rows from 0 onwards\n",
    ")"
   ]
  },
  {
   "cell_type": "code",
   "execution_count": 9,
   "metadata": {
    "collapsed": false
   },
   "outputs": [
    {
     "data": {
      "text/html": [
       "<div>\n",
       "<table border=\"1\" class=\"dataframe\">\n",
       "  <thead>\n",
       "    <tr style=\"text-align: right;\">\n",
       "      <th></th>\n",
       "      <th>drug</th>\n",
       "      <th>disease</th>\n",
       "      <th>gene_count</th>\n",
       "    </tr>\n",
       "  </thead>\n",
       "  <tbody>\n",
       "    <tr>\n",
       "      <th>0</th>\n",
       "      <td>Caffeine</td>\n",
       "      <td>obesity</td>\n",
       "      <td>3</td>\n",
       "    </tr>\n",
       "    <tr>\n",
       "      <th>1</th>\n",
       "      <td>Quisinostat</td>\n",
       "      <td>obesity</td>\n",
       "      <td>2</td>\n",
       "    </tr>\n",
       "    <tr>\n",
       "      <th>2</th>\n",
       "      <td>Adenosine triphosphate</td>\n",
       "      <td>obesity</td>\n",
       "      <td>2</td>\n",
       "    </tr>\n",
       "    <tr>\n",
       "      <th>3</th>\n",
       "      <td>Trichostatin A</td>\n",
       "      <td>obesity</td>\n",
       "      <td>2</td>\n",
       "    </tr>\n",
       "    <tr>\n",
       "      <th>4</th>\n",
       "      <td>Panobinostat</td>\n",
       "      <td>obesity</td>\n",
       "      <td>2</td>\n",
       "    </tr>\n",
       "  </tbody>\n",
       "</table>\n",
       "</div>"
      ],
      "text/plain": [
       "                     drug  disease  gene_count\n",
       "0                Caffeine  obesity           3\n",
       "1             Quisinostat  obesity           2\n",
       "2  Adenosine triphosphate  obesity           2\n",
       "3          Trichostatin A  obesity           2\n",
       "4            Panobinostat  obesity           2"
      ]
     },
     "execution_count": 9,
     "metadata": {},
     "output_type": "execute_result"
    }
   ],
   "source": [
    "counts.head()"
   ]
  },
  {
   "cell_type": "markdown",
   "metadata": {},
   "source": [
    "## Add the genes used to link each (drug, disease) pair\n",
    "\n",
    "Now add another column containing the actual genes linking each (drug, disease) pair."
   ]
  },
  {
   "cell_type": "code",
   "execution_count": 10,
   "metadata": {
    "collapsed": false
   },
   "outputs": [],
   "source": [
    "counts[\"genes\"] = counts[[\"drug\", \"disease\"]].apply(\n",
    "    lambda row:\n",
    "        list(good.query('drug == \"{}\" & disease == \"{}\"'.format(row[\"drug\"], row[\"disease\"]))[\"gene\"]),\n",
    "    axis = 1\n",
    ")"
   ]
  },
  {
   "cell_type": "code",
   "execution_count": 11,
   "metadata": {
    "collapsed": false
   },
   "outputs": [
    {
     "data": {
      "text/html": [
       "<div>\n",
       "<table border=\"1\" class=\"dataframe\">\n",
       "  <thead>\n",
       "    <tr style=\"text-align: right;\">\n",
       "      <th></th>\n",
       "      <th>drug</th>\n",
       "      <th>disease</th>\n",
       "      <th>gene_count</th>\n",
       "      <th>genes</th>\n",
       "    </tr>\n",
       "  </thead>\n",
       "  <tbody>\n",
       "    <tr>\n",
       "      <th>0</th>\n",
       "      <td>Caffeine</td>\n",
       "      <td>obesity</td>\n",
       "      <td>3</td>\n",
       "      <td>[adenosine A3 receptor, inositol 1,4,5-trispho...</td>\n",
       "    </tr>\n",
       "    <tr>\n",
       "      <th>1</th>\n",
       "      <td>Quisinostat</td>\n",
       "      <td>obesity</td>\n",
       "      <td>2</td>\n",
       "      <td>[histone deacetylase 7, histone deacetylase 9]</td>\n",
       "    </tr>\n",
       "    <tr>\n",
       "      <th>2</th>\n",
       "      <td>Adenosine triphosphate</td>\n",
       "      <td>obesity</td>\n",
       "      <td>2</td>\n",
       "      <td>[inositol 1,4,5-trisphosphate receptor, type 1...</td>\n",
       "    </tr>\n",
       "    <tr>\n",
       "      <th>3</th>\n",
       "      <td>Trichostatin A</td>\n",
       "      <td>obesity</td>\n",
       "      <td>2</td>\n",
       "      <td>[histone deacetylase 7, histone deacetylase 9]</td>\n",
       "    </tr>\n",
       "    <tr>\n",
       "      <th>4</th>\n",
       "      <td>Panobinostat</td>\n",
       "      <td>obesity</td>\n",
       "      <td>2</td>\n",
       "      <td>[histone deacetylase 7, histone deacetylase 9]</td>\n",
       "    </tr>\n",
       "  </tbody>\n",
       "</table>\n",
       "</div>"
      ],
      "text/plain": [
       "                     drug  disease  gene_count  \\\n",
       "0                Caffeine  obesity           3   \n",
       "1             Quisinostat  obesity           2   \n",
       "2  Adenosine triphosphate  obesity           2   \n",
       "3          Trichostatin A  obesity           2   \n",
       "4            Panobinostat  obesity           2   \n",
       "\n",
       "                                               genes  \n",
       "0  [adenosine A3 receptor, inositol 1,4,5-trispho...  \n",
       "1     [histone deacetylase 7, histone deacetylase 9]  \n",
       "2  [inositol 1,4,5-trisphosphate receptor, type 1...  \n",
       "3     [histone deacetylase 7, histone deacetylase 9]  \n",
       "4     [histone deacetylase 7, histone deacetylase 9]  "
      ]
     },
     "execution_count": 11,
     "metadata": {},
     "output_type": "execute_result"
    }
   ],
   "source": [
    "counts.head()"
   ]
  },
  {
   "cell_type": "markdown",
   "metadata": {},
   "source": [
    "## Save to file"
   ]
  },
  {
   "cell_type": "code",
   "execution_count": 12,
   "metadata": {
    "collapsed": true
   },
   "outputs": [],
   "source": [
    "counts.to_csv(\"drug_disease_count_toby.tsv\", sep = '\\t', index = False)"
   ]
  },
  {
   "cell_type": "markdown",
   "metadata": {},
   "source": [
    "---"
   ]
  },
  {
   "cell_type": "markdown",
   "metadata": {},
   "source": [
    "## Make cytoscape file\n",
    "\n",
    "We want a file with all the edges for Cytoscape."
   ]
  },
  {
   "cell_type": "code",
   "execution_count": 13,
   "metadata": {
    "collapsed": true
   },
   "outputs": [],
   "source": [
    "drug_gene = (good\n",
    "    [[\"drug\", \"gene\"]] # only look at the drug and gene columns\n",
    "    .assign( # create new columns with values for the source, edge, and target types\n",
    "        source_type = \"drug\",\n",
    "        edge_type = \"interacts_with\",\n",
    "        target_type = \"gene\"\n",
    "    )\n",
    "    .rename(columns = {\"drug\": \"source_node\", \"gene\": \"target_node\"}) # rename drug and gene columns\n",
    ")"
   ]
  },
  {
   "cell_type": "code",
   "execution_count": 14,
   "metadata": {
    "collapsed": false
   },
   "outputs": [
    {
     "data": {
      "text/html": [
       "<div>\n",
       "<table border=\"1\" class=\"dataframe\">\n",
       "  <thead>\n",
       "    <tr style=\"text-align: right;\">\n",
       "      <th></th>\n",
       "      <th>source_node</th>\n",
       "      <th>target_node</th>\n",
       "      <th>edge_type</th>\n",
       "      <th>source_type</th>\n",
       "      <th>target_type</th>\n",
       "    </tr>\n",
       "  </thead>\n",
       "  <tbody>\n",
       "    <tr>\n",
       "      <th>0</th>\n",
       "      <td>Caffeine</td>\n",
       "      <td>adenosine A3 receptor</td>\n",
       "      <td>interacts_with</td>\n",
       "      <td>drug</td>\n",
       "      <td>gene</td>\n",
       "    </tr>\n",
       "    <tr>\n",
       "      <th>1</th>\n",
       "      <td>Adenosine</td>\n",
       "      <td>adenosine A3 receptor</td>\n",
       "      <td>interacts_with</td>\n",
       "      <td>drug</td>\n",
       "      <td>gene</td>\n",
       "    </tr>\n",
       "    <tr>\n",
       "      <th>2</th>\n",
       "      <td>Theophylline</td>\n",
       "      <td>adenosine A3 receptor</td>\n",
       "      <td>interacts_with</td>\n",
       "      <td>drug</td>\n",
       "      <td>gene</td>\n",
       "    </tr>\n",
       "    <tr>\n",
       "      <th>3</th>\n",
       "      <td>Nicardipine</td>\n",
       "      <td>adenosine A3 receptor</td>\n",
       "      <td>interacts_with</td>\n",
       "      <td>drug</td>\n",
       "      <td>gene</td>\n",
       "    </tr>\n",
       "    <tr>\n",
       "      <th>4</th>\n",
       "      <td>Istradefylline</td>\n",
       "      <td>adenosine A3 receptor</td>\n",
       "      <td>interacts_with</td>\n",
       "      <td>drug</td>\n",
       "      <td>gene</td>\n",
       "    </tr>\n",
       "  </tbody>\n",
       "</table>\n",
       "</div>"
      ],
      "text/plain": [
       "      source_node            target_node       edge_type source_type  \\\n",
       "0        Caffeine  adenosine A3 receptor  interacts_with        drug   \n",
       "1       Adenosine  adenosine A3 receptor  interacts_with        drug   \n",
       "2    Theophylline  adenosine A3 receptor  interacts_with        drug   \n",
       "3     Nicardipine  adenosine A3 receptor  interacts_with        drug   \n",
       "4  Istradefylline  adenosine A3 receptor  interacts_with        drug   \n",
       "\n",
       "  target_type  \n",
       "0        gene  \n",
       "1        gene  \n",
       "2        gene  \n",
       "3        gene  \n",
       "4        gene  "
      ]
     },
     "execution_count": 14,
     "metadata": {},
     "output_type": "execute_result"
    }
   ],
   "source": [
    "drug_gene.head()"
   ]
  },
  {
   "cell_type": "code",
   "execution_count": 15,
   "metadata": {
    "collapsed": true
   },
   "outputs": [],
   "source": [
    "# do the same for disease gene edges\n",
    "disease_gene = (good\n",
    "    [[\"disease\", \"gene\"]]\n",
    "    .assign(\n",
    "        source_type = \"disease\",\n",
    "        edge_type = \"associated_with\",\n",
    "        target_type = \"gene\"\n",
    "    )\n",
    "    .rename(columns = {\"disease\": \"source_node\", \"gene\": \"target_node\"})\n",
    ")"
   ]
  },
  {
   "cell_type": "code",
   "execution_count": 16,
   "metadata": {
    "collapsed": false
   },
   "outputs": [
    {
     "data": {
      "text/html": [
       "<div>\n",
       "<table border=\"1\" class=\"dataframe\">\n",
       "  <thead>\n",
       "    <tr style=\"text-align: right;\">\n",
       "      <th></th>\n",
       "      <th>source_node</th>\n",
       "      <th>target_node</th>\n",
       "      <th>edge_type</th>\n",
       "      <th>source_type</th>\n",
       "      <th>target_type</th>\n",
       "    </tr>\n",
       "  </thead>\n",
       "  <tbody>\n",
       "    <tr>\n",
       "      <th>0</th>\n",
       "      <td>obesity</td>\n",
       "      <td>adenosine A3 receptor</td>\n",
       "      <td>associated_with</td>\n",
       "      <td>disease</td>\n",
       "      <td>gene</td>\n",
       "    </tr>\n",
       "    <tr>\n",
       "      <th>1</th>\n",
       "      <td>obesity</td>\n",
       "      <td>adenosine A3 receptor</td>\n",
       "      <td>associated_with</td>\n",
       "      <td>disease</td>\n",
       "      <td>gene</td>\n",
       "    </tr>\n",
       "    <tr>\n",
       "      <th>2</th>\n",
       "      <td>obesity</td>\n",
       "      <td>adenosine A3 receptor</td>\n",
       "      <td>associated_with</td>\n",
       "      <td>disease</td>\n",
       "      <td>gene</td>\n",
       "    </tr>\n",
       "    <tr>\n",
       "      <th>3</th>\n",
       "      <td>obesity</td>\n",
       "      <td>adenosine A3 receptor</td>\n",
       "      <td>associated_with</td>\n",
       "      <td>disease</td>\n",
       "      <td>gene</td>\n",
       "    </tr>\n",
       "    <tr>\n",
       "      <th>4</th>\n",
       "      <td>obesity</td>\n",
       "      <td>adenosine A3 receptor</td>\n",
       "      <td>associated_with</td>\n",
       "      <td>disease</td>\n",
       "      <td>gene</td>\n",
       "    </tr>\n",
       "  </tbody>\n",
       "</table>\n",
       "</div>"
      ],
      "text/plain": [
       "  source_node            target_node        edge_type source_type target_type\n",
       "0     obesity  adenosine A3 receptor  associated_with     disease        gene\n",
       "1     obesity  adenosine A3 receptor  associated_with     disease        gene\n",
       "2     obesity  adenosine A3 receptor  associated_with     disease        gene\n",
       "3     obesity  adenosine A3 receptor  associated_with     disease        gene\n",
       "4     obesity  adenosine A3 receptor  associated_with     disease        gene"
      ]
     },
     "execution_count": 16,
     "metadata": {},
     "output_type": "execute_result"
    }
   ],
   "source": [
    "disease_gene.head()"
   ]
  },
  {
   "cell_type": "markdown",
   "metadata": {},
   "source": [
    "## Group the two edge types together"
   ]
  },
  {
   "cell_type": "code",
   "execution_count": 17,
   "metadata": {
    "collapsed": true
   },
   "outputs": [],
   "source": [
    "final = (pd\n",
    "    .concat([drug_gene, disease_gene])\n",
    "    [[\"source_node\", \"source_type\", \"edge_type\", \"target_node\", \"target_type\"]]\n",
    ")"
   ]
  },
  {
   "cell_type": "code",
   "execution_count": 18,
   "metadata": {
    "collapsed": false
   },
   "outputs": [
    {
     "data": {
      "text/html": [
       "<div>\n",
       "<table border=\"1\" class=\"dataframe\">\n",
       "  <thead>\n",
       "    <tr style=\"text-align: right;\">\n",
       "      <th></th>\n",
       "      <th>source_node</th>\n",
       "      <th>source_type</th>\n",
       "      <th>edge_type</th>\n",
       "      <th>target_node</th>\n",
       "      <th>target_type</th>\n",
       "    </tr>\n",
       "  </thead>\n",
       "  <tbody>\n",
       "    <tr>\n",
       "      <th>0</th>\n",
       "      <td>Caffeine</td>\n",
       "      <td>drug</td>\n",
       "      <td>interacts_with</td>\n",
       "      <td>adenosine A3 receptor</td>\n",
       "      <td>gene</td>\n",
       "    </tr>\n",
       "    <tr>\n",
       "      <th>1</th>\n",
       "      <td>Adenosine</td>\n",
       "      <td>drug</td>\n",
       "      <td>interacts_with</td>\n",
       "      <td>adenosine A3 receptor</td>\n",
       "      <td>gene</td>\n",
       "    </tr>\n",
       "    <tr>\n",
       "      <th>2</th>\n",
       "      <td>Theophylline</td>\n",
       "      <td>drug</td>\n",
       "      <td>interacts_with</td>\n",
       "      <td>adenosine A3 receptor</td>\n",
       "      <td>gene</td>\n",
       "    </tr>\n",
       "    <tr>\n",
       "      <th>3</th>\n",
       "      <td>Nicardipine</td>\n",
       "      <td>drug</td>\n",
       "      <td>interacts_with</td>\n",
       "      <td>adenosine A3 receptor</td>\n",
       "      <td>gene</td>\n",
       "    </tr>\n",
       "    <tr>\n",
       "      <th>4</th>\n",
       "      <td>Istradefylline</td>\n",
       "      <td>drug</td>\n",
       "      <td>interacts_with</td>\n",
       "      <td>adenosine A3 receptor</td>\n",
       "      <td>gene</td>\n",
       "    </tr>\n",
       "  </tbody>\n",
       "</table>\n",
       "</div>"
      ],
      "text/plain": [
       "      source_node source_type       edge_type            target_node  \\\n",
       "0        Caffeine        drug  interacts_with  adenosine A3 receptor   \n",
       "1       Adenosine        drug  interacts_with  adenosine A3 receptor   \n",
       "2    Theophylline        drug  interacts_with  adenosine A3 receptor   \n",
       "3     Nicardipine        drug  interacts_with  adenosine A3 receptor   \n",
       "4  Istradefylline        drug  interacts_with  adenosine A3 receptor   \n",
       "\n",
       "  target_type  \n",
       "0        gene  \n",
       "1        gene  \n",
       "2        gene  \n",
       "3        gene  \n",
       "4        gene  "
      ]
     },
     "execution_count": 18,
     "metadata": {},
     "output_type": "execute_result"
    }
   ],
   "source": [
    "final.head()"
   ]
  },
  {
   "cell_type": "markdown",
   "metadata": {},
   "source": [
    "## Save file to disk"
   ]
  },
  {
   "cell_type": "code",
   "execution_count": 19,
   "metadata": {
    "collapsed": true
   },
   "outputs": [],
   "source": [
    "final.to_csv(\"drug_gene_disease_network_toby.txt\", sep = '\\t', index = False)"
   ]
  }
 ],
 "metadata": {
  "kernelspec": {
   "display_name": "Python 3",
   "language": "python",
   "name": "python3"
  },
  "language_info": {
   "codemirror_mode": {
    "name": "ipython",
    "version": 3
   },
   "file_extension": ".py",
   "mimetype": "text/x-python",
   "name": "python",
   "nbconvert_exporter": "python",
   "pygments_lexer": "ipython3",
   "version": "3.4.3"
  }
 },
 "nbformat": 4,
 "nbformat_minor": 0
}
