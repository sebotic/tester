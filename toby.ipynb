{
 "cells": [
  {
   "cell_type": "markdown",
   "metadata": {},
   "source": [
    "## Necessary imports"
   ]
  },
  {
   "cell_type": "code",
   "execution_count": 1,
   "metadata": {
    "collapsed": true
   },
   "outputs": [],
   "source": [
    "import pandas as pd\n",
    "\n",
    "from pandas.io.json import json_normalize\n",
    "from SPARQLWrapper import SPARQLWrapper, JSON"
   ]
  },
  {
   "cell_type": "markdown",
   "metadata": {},
   "source": [
    "## Create query function\n",
    "\n",
    "The function below takes a SPARQL query string, queries WikiData, and returns the result as a pandas DataFrame (a table)."
   ]
  },
  {
   "cell_type": "code",
   "execution_count": 2,
   "metadata": {
    "collapsed": true
   },
   "outputs": [],
   "source": [
    "def query_wikidata(sparql_query):\n",
    "    \"\"\"\n",
    "    Query Wikidata with the given query string and return the results as a pandas Dataframe.\n",
    "    \"\"\"\n",
    "    # create the connection to WikiData\n",
    "    sparql = SPARQLWrapper(\"https://query.wikidata.org/sparql\")\n",
    "    \n",
    "    sparql.setQuery(sparql_query)\n",
    "    sparql.setReturnFormat(JSON)\n",
    "\n",
    "    # ask Wikidata for the result\n",
    "    result = sparql.query().convert()\n",
    "    return json_normalize(result[\"results\"][\"bindings\"])"
   ]
  },
  {
   "cell_type": "markdown",
   "metadata": {},
   "source": [
    "## Run our SPARQL query"
   ]
  },
  {
   "cell_type": "code",
   "execution_count": 3,
   "metadata": {
    "collapsed": false
   },
   "outputs": [],
   "source": [
    "sparql_query = \"\"\"SELECT ?drug ?drugLabel ?gene ?geneLabel ?entrez_id ?disease ?diseaseLabel WHERE {\n",
    "      ?drug wdt:P129 ?gene_product .   # drug interacts with a gene_product \n",
    "      ?gene_product wdt:P702 ?gene .  # gene_product is encoded by a gene\n",
    "      ?gene wdt:P2293 ?disease .    # gene is genetically associated with a disease \n",
    "      ?gene wdt:P351 ?entrez_id .  # get the entrez gene id for the gene \n",
    "      # add labels\n",
    "      SERVICE wikibase:label {\n",
    "            bd:serviceParam wikibase:language \"en\" .\n",
    "      }\n",
    "    }\n",
    "    limit 1000\n",
    "    \"\"\"\n",
    "\n",
    "result_table = query_wikidata(sparql_query)"
   ]
  },
  {
   "cell_type": "markdown",
   "metadata": {},
   "source": [
    "## Look at the results of our SPARQL query"
   ]
  },
  {
   "cell_type": "code",
   "execution_count": 4,
   "metadata": {
    "collapsed": false
   },
   "outputs": [
    {
     "data": {
      "text/plain": [
       "(595, 17)"
      ]
     },
     "execution_count": 4,
     "metadata": {},
     "output_type": "execute_result"
    }
   ],
   "source": [
    "result_table.shape"
   ]
  },
  {
   "cell_type": "code",
   "execution_count": 5,
   "metadata": {
    "collapsed": false,
    "scrolled": false
   },
   "outputs": [
    {
     "data": {
      "text/html": [
       "<div>\n",
       "<table border=\"1\" class=\"dataframe\">\n",
       "  <thead>\n",
       "    <tr style=\"text-align: right;\">\n",
       "      <th></th>\n",
       "      <th>disease.type</th>\n",
       "      <th>disease.value</th>\n",
       "      <th>diseaseLabel.type</th>\n",
       "      <th>diseaseLabel.value</th>\n",
       "      <th>diseaseLabel.xml:lang</th>\n",
       "      <th>drug.type</th>\n",
       "      <th>drug.value</th>\n",
       "      <th>drugLabel.type</th>\n",
       "      <th>drugLabel.value</th>\n",
       "      <th>drugLabel.xml:lang</th>\n",
       "      <th>entrez_id.type</th>\n",
       "      <th>entrez_id.value</th>\n",
       "      <th>gene.type</th>\n",
       "      <th>gene.value</th>\n",
       "      <th>geneLabel.type</th>\n",
       "      <th>geneLabel.value</th>\n",
       "      <th>geneLabel.xml:lang</th>\n",
       "    </tr>\n",
       "  </thead>\n",
       "  <tbody>\n",
       "    <tr>\n",
       "      <th>0</th>\n",
       "      <td>uri</td>\n",
       "      <td>http://www.wikidata.org/entity/Q12174</td>\n",
       "      <td>literal</td>\n",
       "      <td>obesity</td>\n",
       "      <td>en</td>\n",
       "      <td>uri</td>\n",
       "      <td>http://www.wikidata.org/entity/Q60235</td>\n",
       "      <td>literal</td>\n",
       "      <td>Caffeine</td>\n",
       "      <td>en</td>\n",
       "      <td>literal</td>\n",
       "      <td>140</td>\n",
       "      <td>uri</td>\n",
       "      <td>http://www.wikidata.org/entity/Q4682275</td>\n",
       "      <td>literal</td>\n",
       "      <td>adenosine A3 receptor</td>\n",
       "      <td>en</td>\n",
       "    </tr>\n",
       "    <tr>\n",
       "      <th>1</th>\n",
       "      <td>uri</td>\n",
       "      <td>http://www.wikidata.org/entity/Q12174</td>\n",
       "      <td>literal</td>\n",
       "      <td>obesity</td>\n",
       "      <td>en</td>\n",
       "      <td>uri</td>\n",
       "      <td>http://www.wikidata.org/entity/Q190012</td>\n",
       "      <td>literal</td>\n",
       "      <td>Adenosine</td>\n",
       "      <td>en</td>\n",
       "      <td>literal</td>\n",
       "      <td>140</td>\n",
       "      <td>uri</td>\n",
       "      <td>http://www.wikidata.org/entity/Q4682275</td>\n",
       "      <td>literal</td>\n",
       "      <td>adenosine A3 receptor</td>\n",
       "      <td>en</td>\n",
       "    </tr>\n",
       "    <tr>\n",
       "      <th>2</th>\n",
       "      <td>uri</td>\n",
       "      <td>http://www.wikidata.org/entity/Q12174</td>\n",
       "      <td>literal</td>\n",
       "      <td>obesity</td>\n",
       "      <td>en</td>\n",
       "      <td>uri</td>\n",
       "      <td>http://www.wikidata.org/entity/Q407308</td>\n",
       "      <td>literal</td>\n",
       "      <td>Theophylline</td>\n",
       "      <td>en</td>\n",
       "      <td>literal</td>\n",
       "      <td>140</td>\n",
       "      <td>uri</td>\n",
       "      <td>http://www.wikidata.org/entity/Q4682275</td>\n",
       "      <td>literal</td>\n",
       "      <td>adenosine A3 receptor</td>\n",
       "      <td>en</td>\n",
       "    </tr>\n",
       "    <tr>\n",
       "      <th>3</th>\n",
       "      <td>uri</td>\n",
       "      <td>http://www.wikidata.org/entity/Q12174</td>\n",
       "      <td>literal</td>\n",
       "      <td>obesity</td>\n",
       "      <td>en</td>\n",
       "      <td>uri</td>\n",
       "      <td>http://www.wikidata.org/entity/Q729213</td>\n",
       "      <td>literal</td>\n",
       "      <td>Nicardipine</td>\n",
       "      <td>en</td>\n",
       "      <td>literal</td>\n",
       "      <td>140</td>\n",
       "      <td>uri</td>\n",
       "      <td>http://www.wikidata.org/entity/Q4682275</td>\n",
       "      <td>literal</td>\n",
       "      <td>adenosine A3 receptor</td>\n",
       "      <td>en</td>\n",
       "    </tr>\n",
       "    <tr>\n",
       "      <th>4</th>\n",
       "      <td>uri</td>\n",
       "      <td>http://www.wikidata.org/entity/Q12174</td>\n",
       "      <td>literal</td>\n",
       "      <td>obesity</td>\n",
       "      <td>en</td>\n",
       "      <td>uri</td>\n",
       "      <td>http://www.wikidata.org/entity/Q905783</td>\n",
       "      <td>literal</td>\n",
       "      <td>Istradefylline</td>\n",
       "      <td>en</td>\n",
       "      <td>literal</td>\n",
       "      <td>140</td>\n",
       "      <td>uri</td>\n",
       "      <td>http://www.wikidata.org/entity/Q4682275</td>\n",
       "      <td>literal</td>\n",
       "      <td>adenosine A3 receptor</td>\n",
       "      <td>en</td>\n",
       "    </tr>\n",
       "  </tbody>\n",
       "</table>\n",
       "</div>"
      ],
      "text/plain": [
       "  disease.type                          disease.value diseaseLabel.type  \\\n",
       "0          uri  http://www.wikidata.org/entity/Q12174           literal   \n",
       "1          uri  http://www.wikidata.org/entity/Q12174           literal   \n",
       "2          uri  http://www.wikidata.org/entity/Q12174           literal   \n",
       "3          uri  http://www.wikidata.org/entity/Q12174           literal   \n",
       "4          uri  http://www.wikidata.org/entity/Q12174           literal   \n",
       "\n",
       "  diseaseLabel.value diseaseLabel.xml:lang drug.type  \\\n",
       "0            obesity                    en       uri   \n",
       "1            obesity                    en       uri   \n",
       "2            obesity                    en       uri   \n",
       "3            obesity                    en       uri   \n",
       "4            obesity                    en       uri   \n",
       "\n",
       "                               drug.value drugLabel.type drugLabel.value  \\\n",
       "0   http://www.wikidata.org/entity/Q60235        literal        Caffeine   \n",
       "1  http://www.wikidata.org/entity/Q190012        literal       Adenosine   \n",
       "2  http://www.wikidata.org/entity/Q407308        literal    Theophylline   \n",
       "3  http://www.wikidata.org/entity/Q729213        literal     Nicardipine   \n",
       "4  http://www.wikidata.org/entity/Q905783        literal  Istradefylline   \n",
       "\n",
       "  drugLabel.xml:lang entrez_id.type entrez_id.value gene.type  \\\n",
       "0                 en        literal             140       uri   \n",
       "1                 en        literal             140       uri   \n",
       "2                 en        literal             140       uri   \n",
       "3                 en        literal             140       uri   \n",
       "4                 en        literal             140       uri   \n",
       "\n",
       "                                gene.value geneLabel.type  \\\n",
       "0  http://www.wikidata.org/entity/Q4682275        literal   \n",
       "1  http://www.wikidata.org/entity/Q4682275        literal   \n",
       "2  http://www.wikidata.org/entity/Q4682275        literal   \n",
       "3  http://www.wikidata.org/entity/Q4682275        literal   \n",
       "4  http://www.wikidata.org/entity/Q4682275        literal   \n",
       "\n",
       "         geneLabel.value geneLabel.xml:lang  \n",
       "0  adenosine A3 receptor                 en  \n",
       "1  adenosine A3 receptor                 en  \n",
       "2  adenosine A3 receptor                 en  \n",
       "3  adenosine A3 receptor                 en  \n",
       "4  adenosine A3 receptor                 en  "
      ]
     },
     "execution_count": 5,
     "metadata": {},
     "output_type": "execute_result"
    }
   ],
   "source": [
    "result_table.head()"
   ]
  },
  {
   "cell_type": "markdown",
   "metadata": {},
   "source": [
    "Our results from the SPARQL query has more detail than we care about. We only want to know the names of the drug, disease, and gene columns."
   ]
  },
  {
   "cell_type": "markdown",
   "metadata": {},
   "source": [
    "## Extract only the columns we care about"
   ]
  },
  {
   "cell_type": "code",
   "execution_count": 6,
   "metadata": {
    "collapsed": true
   },
   "outputs": [],
   "source": [
    "simple_table = result_table[[\"drugLabel.value\", \"diseaseLabel.value\", \"geneLabel.value\"]]"
   ]
  },
  {
   "cell_type": "code",
   "execution_count": 7,
   "metadata": {
    "collapsed": false
   },
   "outputs": [
    {
     "data": {
      "text/html": [
       "<div>\n",
       "<table border=\"1\" class=\"dataframe\">\n",
       "  <thead>\n",
       "    <tr style=\"text-align: right;\">\n",
       "      <th></th>\n",
       "      <th>drugLabel.value</th>\n",
       "      <th>diseaseLabel.value</th>\n",
       "      <th>geneLabel.value</th>\n",
       "    </tr>\n",
       "  </thead>\n",
       "  <tbody>\n",
       "    <tr>\n",
       "      <th>0</th>\n",
       "      <td>Caffeine</td>\n",
       "      <td>obesity</td>\n",
       "      <td>adenosine A3 receptor</td>\n",
       "    </tr>\n",
       "    <tr>\n",
       "      <th>1</th>\n",
       "      <td>Adenosine</td>\n",
       "      <td>obesity</td>\n",
       "      <td>adenosine A3 receptor</td>\n",
       "    </tr>\n",
       "    <tr>\n",
       "      <th>2</th>\n",
       "      <td>Theophylline</td>\n",
       "      <td>obesity</td>\n",
       "      <td>adenosine A3 receptor</td>\n",
       "    </tr>\n",
       "    <tr>\n",
       "      <th>3</th>\n",
       "      <td>Nicardipine</td>\n",
       "      <td>obesity</td>\n",
       "      <td>adenosine A3 receptor</td>\n",
       "    </tr>\n",
       "    <tr>\n",
       "      <th>4</th>\n",
       "      <td>Istradefylline</td>\n",
       "      <td>obesity</td>\n",
       "      <td>adenosine A3 receptor</td>\n",
       "    </tr>\n",
       "  </tbody>\n",
       "</table>\n",
       "</div>"
      ],
      "text/plain": [
       "  drugLabel.value diseaseLabel.value        geneLabel.value\n",
       "0        Caffeine            obesity  adenosine A3 receptor\n",
       "1       Adenosine            obesity  adenosine A3 receptor\n",
       "2    Theophylline            obesity  adenosine A3 receptor\n",
       "3     Nicardipine            obesity  adenosine A3 receptor\n",
       "4  Istradefylline            obesity  adenosine A3 receptor"
      ]
     },
     "execution_count": 7,
     "metadata": {},
     "output_type": "execute_result"
    }
   ],
   "source": [
    "simple_table.head()"
   ]
  },
  {
   "cell_type": "markdown",
   "metadata": {},
   "source": [
    "### Rename the columns of our simple table\n",
    "\n",
    "Let's delete the \"Label.value\" portion from the column names."
   ]
  },
  {
   "cell_type": "code",
   "execution_count": 8,
   "metadata": {
    "collapsed": false,
    "scrolled": true
   },
   "outputs": [],
   "source": [
    "simple_table = simple_table.rename(columns = lambda col: col.replace(\"Label.value\", \"\"))"
   ]
  },
  {
   "cell_type": "code",
   "execution_count": 9,
   "metadata": {
    "collapsed": false
   },
   "outputs": [
    {
     "data": {
      "text/html": [
       "<div>\n",
       "<table border=\"1\" class=\"dataframe\">\n",
       "  <thead>\n",
       "    <tr style=\"text-align: right;\">\n",
       "      <th></th>\n",
       "      <th>drug</th>\n",
       "      <th>disease</th>\n",
       "      <th>gene</th>\n",
       "    </tr>\n",
       "  </thead>\n",
       "  <tbody>\n",
       "    <tr>\n",
       "      <th>0</th>\n",
       "      <td>Caffeine</td>\n",
       "      <td>obesity</td>\n",
       "      <td>adenosine A3 receptor</td>\n",
       "    </tr>\n",
       "    <tr>\n",
       "      <th>1</th>\n",
       "      <td>Adenosine</td>\n",
       "      <td>obesity</td>\n",
       "      <td>adenosine A3 receptor</td>\n",
       "    </tr>\n",
       "    <tr>\n",
       "      <th>2</th>\n",
       "      <td>Theophylline</td>\n",
       "      <td>obesity</td>\n",
       "      <td>adenosine A3 receptor</td>\n",
       "    </tr>\n",
       "    <tr>\n",
       "      <th>3</th>\n",
       "      <td>Nicardipine</td>\n",
       "      <td>obesity</td>\n",
       "      <td>adenosine A3 receptor</td>\n",
       "    </tr>\n",
       "    <tr>\n",
       "      <th>4</th>\n",
       "      <td>Istradefylline</td>\n",
       "      <td>obesity</td>\n",
       "      <td>adenosine A3 receptor</td>\n",
       "    </tr>\n",
       "  </tbody>\n",
       "</table>\n",
       "</div>"
      ],
      "text/plain": [
       "             drug  disease                   gene\n",
       "0        Caffeine  obesity  adenosine A3 receptor\n",
       "1       Adenosine  obesity  adenosine A3 receptor\n",
       "2    Theophylline  obesity  adenosine A3 receptor\n",
       "3     Nicardipine  obesity  adenosine A3 receptor\n",
       "4  Istradefylline  obesity  adenosine A3 receptor"
      ]
     },
     "execution_count": 9,
     "metadata": {},
     "output_type": "execute_result"
    }
   ],
   "source": [
    "simple_table.head()"
   ]
  },
  {
   "cell_type": "markdown",
   "metadata": {},
   "source": [
    "We have just grabbed the three columns we care about and renamed them."
   ]
  },
  {
   "cell_type": "markdown",
   "metadata": {},
   "source": [
    "## Count the number of genes per (drug, disease) pair\n",
    "\n",
    "How many genes link each unique (drug, disease) pair? After counting, order the (drug, disease) pairs in descending order of number of linking genes."
   ]
  },
  {
   "cell_type": "markdown",
   "metadata": {},
   "source": [
    "### Make unique (drug, disease) groups and count the number of genes for this group"
   ]
  },
  {
   "cell_type": "code",
   "execution_count": 10,
   "metadata": {
    "collapsed": true
   },
   "outputs": [],
   "source": [
    "counts = simple_table.groupby([\"drug\", \"disease\"]).size()"
   ]
  },
  {
   "cell_type": "code",
   "execution_count": 11,
   "metadata": {
    "collapsed": false
   },
   "outputs": [
    {
     "data": {
      "text/plain": [
       "drug                                             disease                  \n",
       "(2S,3S)-2-amino-3-phenylmethoxybutanedioic acid  essential tremor             1\n",
       "                                                 schizophrenia                1\n",
       "1,9-Pyrazoloanthrone                             peripheral artery disease    1\n",
       "2-Aminoethoxydiphenyl borate                     obesity                      1\n",
       "2-methyl-6-(phenylethynyl)pyridine               Rheumatoid Arthritis         1\n",
       "dtype: int64"
      ]
     },
     "execution_count": 11,
     "metadata": {},
     "output_type": "execute_result"
    }
   ],
   "source": [
    "counts.head()"
   ]
  },
  {
   "cell_type": "markdown",
   "metadata": {},
   "source": [
    "### Turn result into a table"
   ]
  },
  {
   "cell_type": "code",
   "execution_count": 12,
   "metadata": {
    "collapsed": true
   },
   "outputs": [],
   "source": [
    "counts = counts.to_frame(\"gene_count\")"
   ]
  },
  {
   "cell_type": "code",
   "execution_count": 13,
   "metadata": {
    "collapsed": false
   },
   "outputs": [
    {
     "data": {
      "text/html": [
       "<div>\n",
       "<table border=\"1\" class=\"dataframe\">\n",
       "  <thead>\n",
       "    <tr style=\"text-align: right;\">\n",
       "      <th></th>\n",
       "      <th></th>\n",
       "      <th>gene_count</th>\n",
       "    </tr>\n",
       "    <tr>\n",
       "      <th>drug</th>\n",
       "      <th>disease</th>\n",
       "      <th></th>\n",
       "    </tr>\n",
       "  </thead>\n",
       "  <tbody>\n",
       "    <tr>\n",
       "      <th rowspan=\"2\" valign=\"top\">(2S,3S)-2-amino-3-phenylmethoxybutanedioic acid</th>\n",
       "      <th>essential tremor</th>\n",
       "      <td>1</td>\n",
       "    </tr>\n",
       "    <tr>\n",
       "      <th>schizophrenia</th>\n",
       "      <td>1</td>\n",
       "    </tr>\n",
       "    <tr>\n",
       "      <th>1,9-Pyrazoloanthrone</th>\n",
       "      <th>peripheral artery disease</th>\n",
       "      <td>1</td>\n",
       "    </tr>\n",
       "    <tr>\n",
       "      <th>2-Aminoethoxydiphenyl borate</th>\n",
       "      <th>obesity</th>\n",
       "      <td>1</td>\n",
       "    </tr>\n",
       "    <tr>\n",
       "      <th>2-methyl-6-(phenylethynyl)pyridine</th>\n",
       "      <th>Rheumatoid Arthritis</th>\n",
       "      <td>1</td>\n",
       "    </tr>\n",
       "  </tbody>\n",
       "</table>\n",
       "</div>"
      ],
      "text/plain": [
       "                                                                           gene_count\n",
       "drug                                            disease                              \n",
       "(2S,3S)-2-amino-3-phenylmethoxybutanedioic acid essential tremor                    1\n",
       "                                                schizophrenia                       1\n",
       "1,9-Pyrazoloanthrone                            peripheral artery disease           1\n",
       "2-Aminoethoxydiphenyl borate                    obesity                             1\n",
       "2-methyl-6-(phenylethynyl)pyridine              Rheumatoid Arthritis                1"
      ]
     },
     "execution_count": 13,
     "metadata": {},
     "output_type": "execute_result"
    }
   ],
   "source": [
    "counts.head()"
   ]
  },
  {
   "cell_type": "markdown",
   "metadata": {},
   "source": [
    "### Put the drug and disease labels back into columns"
   ]
  },
  {
   "cell_type": "code",
   "execution_count": 14,
   "metadata": {
    "collapsed": true
   },
   "outputs": [],
   "source": [
    "counts = counts.reset_index()"
   ]
  },
  {
   "cell_type": "code",
   "execution_count": 15,
   "metadata": {
    "collapsed": false
   },
   "outputs": [
    {
     "data": {
      "text/html": [
       "<div>\n",
       "<table border=\"1\" class=\"dataframe\">\n",
       "  <thead>\n",
       "    <tr style=\"text-align: right;\">\n",
       "      <th></th>\n",
       "      <th>drug</th>\n",
       "      <th>disease</th>\n",
       "      <th>gene_count</th>\n",
       "    </tr>\n",
       "  </thead>\n",
       "  <tbody>\n",
       "    <tr>\n",
       "      <th>0</th>\n",
       "      <td>(2S,3S)-2-amino-3-phenylmethoxybutanedioic acid</td>\n",
       "      <td>essential tremor</td>\n",
       "      <td>1</td>\n",
       "    </tr>\n",
       "    <tr>\n",
       "      <th>1</th>\n",
       "      <td>(2S,3S)-2-amino-3-phenylmethoxybutanedioic acid</td>\n",
       "      <td>schizophrenia</td>\n",
       "      <td>1</td>\n",
       "    </tr>\n",
       "    <tr>\n",
       "      <th>2</th>\n",
       "      <td>1,9-Pyrazoloanthrone</td>\n",
       "      <td>peripheral artery disease</td>\n",
       "      <td>1</td>\n",
       "    </tr>\n",
       "    <tr>\n",
       "      <th>3</th>\n",
       "      <td>2-Aminoethoxydiphenyl borate</td>\n",
       "      <td>obesity</td>\n",
       "      <td>1</td>\n",
       "    </tr>\n",
       "    <tr>\n",
       "      <th>4</th>\n",
       "      <td>2-methyl-6-(phenylethynyl)pyridine</td>\n",
       "      <td>Rheumatoid Arthritis</td>\n",
       "      <td>1</td>\n",
       "    </tr>\n",
       "  </tbody>\n",
       "</table>\n",
       "</div>"
      ],
      "text/plain": [
       "                                              drug                    disease  \\\n",
       "0  (2S,3S)-2-amino-3-phenylmethoxybutanedioic acid           essential tremor   \n",
       "1  (2S,3S)-2-amino-3-phenylmethoxybutanedioic acid              schizophrenia   \n",
       "2                             1,9-Pyrazoloanthrone  peripheral artery disease   \n",
       "3                     2-Aminoethoxydiphenyl borate                    obesity   \n",
       "4               2-methyl-6-(phenylethynyl)pyridine       Rheumatoid Arthritis   \n",
       "\n",
       "   gene_count  \n",
       "0           1  \n",
       "1           1  \n",
       "2           1  \n",
       "3           1  \n",
       "4           1  "
      ]
     },
     "execution_count": 15,
     "metadata": {},
     "output_type": "execute_result"
    }
   ],
   "source": [
    "counts.head()"
   ]
  },
  {
   "cell_type": "markdown",
   "metadata": {},
   "source": [
    "### Sort the table in descending order of genes"
   ]
  },
  {
   "cell_type": "code",
   "execution_count": 16,
   "metadata": {
    "collapsed": true
   },
   "outputs": [],
   "source": [
    "counts = counts.sort_values(\"gene_count\", ascending = False)"
   ]
  },
  {
   "cell_type": "code",
   "execution_count": 17,
   "metadata": {
    "collapsed": false
   },
   "outputs": [
    {
     "data": {
      "text/html": [
       "<div>\n",
       "<table border=\"1\" class=\"dataframe\">\n",
       "  <thead>\n",
       "    <tr style=\"text-align: right;\">\n",
       "      <th></th>\n",
       "      <th>drug</th>\n",
       "      <th>disease</th>\n",
       "      <th>gene_count</th>\n",
       "    </tr>\n",
       "  </thead>\n",
       "  <tbody>\n",
       "    <tr>\n",
       "      <th>124</th>\n",
       "      <td>Caffeine</td>\n",
       "      <td>obesity</td>\n",
       "      <td>3</td>\n",
       "    </tr>\n",
       "    <tr>\n",
       "      <th>437</th>\n",
       "      <td>Quisinostat</td>\n",
       "      <td>obesity</td>\n",
       "      <td>2</td>\n",
       "    </tr>\n",
       "    <tr>\n",
       "      <th>32</th>\n",
       "      <td>Adenosine triphosphate</td>\n",
       "      <td>obesity</td>\n",
       "      <td>2</td>\n",
       "    </tr>\n",
       "    <tr>\n",
       "      <th>529</th>\n",
       "      <td>Trichostatin A</td>\n",
       "      <td>obesity</td>\n",
       "      <td>2</td>\n",
       "    </tr>\n",
       "    <tr>\n",
       "      <th>390</th>\n",
       "      <td>Panobinostat</td>\n",
       "      <td>obesity</td>\n",
       "      <td>2</td>\n",
       "    </tr>\n",
       "  </tbody>\n",
       "</table>\n",
       "</div>"
      ],
      "text/plain": [
       "                       drug  disease  gene_count\n",
       "124                Caffeine  obesity           3\n",
       "437             Quisinostat  obesity           2\n",
       "32   Adenosine triphosphate  obesity           2\n",
       "529          Trichostatin A  obesity           2\n",
       "390            Panobinostat  obesity           2"
      ]
     },
     "execution_count": 17,
     "metadata": {},
     "output_type": "execute_result"
    }
   ],
   "source": [
    "counts.head()"
   ]
  },
  {
   "cell_type": "markdown",
   "metadata": {},
   "source": [
    "### Number the results from 0 onwards"
   ]
  },
  {
   "cell_type": "code",
   "execution_count": 18,
   "metadata": {
    "collapsed": true
   },
   "outputs": [],
   "source": [
    "counts = counts.reset_index(drop = True)"
   ]
  },
  {
   "cell_type": "code",
   "execution_count": 19,
   "metadata": {
    "collapsed": false
   },
   "outputs": [
    {
     "data": {
      "text/html": [
       "<div>\n",
       "<table border=\"1\" class=\"dataframe\">\n",
       "  <thead>\n",
       "    <tr style=\"text-align: right;\">\n",
       "      <th></th>\n",
       "      <th>drug</th>\n",
       "      <th>disease</th>\n",
       "      <th>gene_count</th>\n",
       "    </tr>\n",
       "  </thead>\n",
       "  <tbody>\n",
       "    <tr>\n",
       "      <th>0</th>\n",
       "      <td>Caffeine</td>\n",
       "      <td>obesity</td>\n",
       "      <td>3</td>\n",
       "    </tr>\n",
       "    <tr>\n",
       "      <th>1</th>\n",
       "      <td>Quisinostat</td>\n",
       "      <td>obesity</td>\n",
       "      <td>2</td>\n",
       "    </tr>\n",
       "    <tr>\n",
       "      <th>2</th>\n",
       "      <td>Adenosine triphosphate</td>\n",
       "      <td>obesity</td>\n",
       "      <td>2</td>\n",
       "    </tr>\n",
       "    <tr>\n",
       "      <th>3</th>\n",
       "      <td>Trichostatin A</td>\n",
       "      <td>obesity</td>\n",
       "      <td>2</td>\n",
       "    </tr>\n",
       "    <tr>\n",
       "      <th>4</th>\n",
       "      <td>Panobinostat</td>\n",
       "      <td>obesity</td>\n",
       "      <td>2</td>\n",
       "    </tr>\n",
       "  </tbody>\n",
       "</table>\n",
       "</div>"
      ],
      "text/plain": [
       "                     drug  disease  gene_count\n",
       "0                Caffeine  obesity           3\n",
       "1             Quisinostat  obesity           2\n",
       "2  Adenosine triphosphate  obesity           2\n",
       "3          Trichostatin A  obesity           2\n",
       "4            Panobinostat  obesity           2"
      ]
     },
     "execution_count": 19,
     "metadata": {},
     "output_type": "execute_result"
    }
   ],
   "source": [
    "counts.head()"
   ]
  },
  {
   "cell_type": "markdown",
   "metadata": {},
   "source": [
    "---"
   ]
  },
  {
   "cell_type": "markdown",
   "metadata": {},
   "source": [
    "## Add the genes used to link each (drug, disease) pair\n",
    "\n",
    "Now add another column containing the actual genes linking each (drug, disease) pair."
   ]
  },
  {
   "cell_type": "markdown",
   "metadata": {},
   "source": [
    "### Create a dictionary containing the linking genes for each unique pair"
   ]
  },
  {
   "cell_type": "code",
   "execution_count": 20,
   "metadata": {
    "collapsed": true
   },
   "outputs": [],
   "source": [
    "linking_genes = dict()\n",
    "for (drug, disease), small_table in simple_table.groupby([\"drug\", \"disease\"]):\n",
    "    linking_genes[(drug, disease)] = list(small_table[\"gene\"])"
   ]
  },
  {
   "cell_type": "markdown",
   "metadata": {},
   "source": [
    "### Example: linking genes for (caffeine, obesity)"
   ]
  },
  {
   "cell_type": "code",
   "execution_count": 21,
   "metadata": {
    "collapsed": false
   },
   "outputs": [
    {
     "data": {
      "text/plain": [
       "['adenosine A3 receptor',\n",
       " 'inositol 1,4,5-trisphosphate receptor, type 1',\n",
       " 'ryanodine receptor 2 (cardiac)']"
      ]
     },
     "execution_count": 21,
     "metadata": {},
     "output_type": "execute_result"
    }
   ],
   "source": [
    "linking_genes[(\"Caffeine\", \"obesity\")]"
   ]
  },
  {
   "cell_type": "markdown",
   "metadata": {},
   "source": [
    "### Make a new column containing the linking genes"
   ]
  },
  {
   "cell_type": "code",
   "execution_count": 22,
   "metadata": {
    "collapsed": true
   },
   "outputs": [],
   "source": [
    "counts[\"genes\"] = counts[[\"drug\", \"disease\"]].apply(\n",
    "    lambda row: linking_genes[(row[\"drug\"], row[\"disease\"])],\n",
    "    axis = 1\n",
    ")"
   ]
  },
  {
   "cell_type": "code",
   "execution_count": 23,
   "metadata": {
    "collapsed": false
   },
   "outputs": [
    {
     "data": {
      "text/html": [
       "<div>\n",
       "<table border=\"1\" class=\"dataframe\">\n",
       "  <thead>\n",
       "    <tr style=\"text-align: right;\">\n",
       "      <th></th>\n",
       "      <th>drug</th>\n",
       "      <th>disease</th>\n",
       "      <th>gene_count</th>\n",
       "      <th>genes</th>\n",
       "    </tr>\n",
       "  </thead>\n",
       "  <tbody>\n",
       "    <tr>\n",
       "      <th>0</th>\n",
       "      <td>Caffeine</td>\n",
       "      <td>obesity</td>\n",
       "      <td>3</td>\n",
       "      <td>[adenosine A3 receptor, inositol 1,4,5-trispho...</td>\n",
       "    </tr>\n",
       "    <tr>\n",
       "      <th>1</th>\n",
       "      <td>Quisinostat</td>\n",
       "      <td>obesity</td>\n",
       "      <td>2</td>\n",
       "      <td>[histone deacetylase 9, histone deacetylase 7]</td>\n",
       "    </tr>\n",
       "    <tr>\n",
       "      <th>2</th>\n",
       "      <td>Adenosine triphosphate</td>\n",
       "      <td>obesity</td>\n",
       "      <td>2</td>\n",
       "      <td>[inositol 1,4,5-trisphosphate receptor, type 1...</td>\n",
       "    </tr>\n",
       "    <tr>\n",
       "      <th>3</th>\n",
       "      <td>Trichostatin A</td>\n",
       "      <td>obesity</td>\n",
       "      <td>2</td>\n",
       "      <td>[histone deacetylase 9, histone deacetylase 7]</td>\n",
       "    </tr>\n",
       "    <tr>\n",
       "      <th>4</th>\n",
       "      <td>Panobinostat</td>\n",
       "      <td>obesity</td>\n",
       "      <td>2</td>\n",
       "      <td>[histone deacetylase 9, histone deacetylase 7]</td>\n",
       "    </tr>\n",
       "  </tbody>\n",
       "</table>\n",
       "</div>"
      ],
      "text/plain": [
       "                     drug  disease  gene_count  \\\n",
       "0                Caffeine  obesity           3   \n",
       "1             Quisinostat  obesity           2   \n",
       "2  Adenosine triphosphate  obesity           2   \n",
       "3          Trichostatin A  obesity           2   \n",
       "4            Panobinostat  obesity           2   \n",
       "\n",
       "                                               genes  \n",
       "0  [adenosine A3 receptor, inositol 1,4,5-trispho...  \n",
       "1     [histone deacetylase 9, histone deacetylase 7]  \n",
       "2  [inositol 1,4,5-trisphosphate receptor, type 1...  \n",
       "3     [histone deacetylase 9, histone deacetylase 7]  \n",
       "4     [histone deacetylase 9, histone deacetylase 7]  "
      ]
     },
     "execution_count": 23,
     "metadata": {},
     "output_type": "execute_result"
    }
   ],
   "source": [
    "counts.head()"
   ]
  },
  {
   "cell_type": "markdown",
   "metadata": {},
   "source": [
    "## Save to file"
   ]
  },
  {
   "cell_type": "code",
   "execution_count": 24,
   "metadata": {
    "collapsed": true
   },
   "outputs": [],
   "source": [
    "counts.to_csv(\"drug_disease_count.tsv\", sep = '\\t', index = False)"
   ]
  },
  {
   "cell_type": "markdown",
   "metadata": {},
   "source": [
    "---"
   ]
  },
  {
   "cell_type": "markdown",
   "metadata": {},
   "source": [
    "## Make cytoscape file\n",
    "\n",
    "We want a file with all the edges for Cytoscape."
   ]
  },
  {
   "cell_type": "markdown",
   "metadata": {},
   "source": [
    "### Start with the drug and gene pairs"
   ]
  },
  {
   "cell_type": "code",
   "execution_count": 25,
   "metadata": {
    "collapsed": true
   },
   "outputs": [],
   "source": [
    "drug_gene_links = simple_table[[\"drug\", \"gene\"]]"
   ]
  },
  {
   "cell_type": "code",
   "execution_count": 26,
   "metadata": {
    "collapsed": false
   },
   "outputs": [
    {
     "data": {
      "text/html": [
       "<div>\n",
       "<table border=\"1\" class=\"dataframe\">\n",
       "  <thead>\n",
       "    <tr style=\"text-align: right;\">\n",
       "      <th></th>\n",
       "      <th>drug</th>\n",
       "      <th>gene</th>\n",
       "    </tr>\n",
       "  </thead>\n",
       "  <tbody>\n",
       "    <tr>\n",
       "      <th>0</th>\n",
       "      <td>Caffeine</td>\n",
       "      <td>adenosine A3 receptor</td>\n",
       "    </tr>\n",
       "    <tr>\n",
       "      <th>1</th>\n",
       "      <td>Adenosine</td>\n",
       "      <td>adenosine A3 receptor</td>\n",
       "    </tr>\n",
       "    <tr>\n",
       "      <th>2</th>\n",
       "      <td>Theophylline</td>\n",
       "      <td>adenosine A3 receptor</td>\n",
       "    </tr>\n",
       "    <tr>\n",
       "      <th>3</th>\n",
       "      <td>Nicardipine</td>\n",
       "      <td>adenosine A3 receptor</td>\n",
       "    </tr>\n",
       "    <tr>\n",
       "      <th>4</th>\n",
       "      <td>Istradefylline</td>\n",
       "      <td>adenosine A3 receptor</td>\n",
       "    </tr>\n",
       "  </tbody>\n",
       "</table>\n",
       "</div>"
      ],
      "text/plain": [
       "             drug                   gene\n",
       "0        Caffeine  adenosine A3 receptor\n",
       "1       Adenosine  adenosine A3 receptor\n",
       "2    Theophylline  adenosine A3 receptor\n",
       "3     Nicardipine  adenosine A3 receptor\n",
       "4  Istradefylline  adenosine A3 receptor"
      ]
     },
     "execution_count": 26,
     "metadata": {},
     "output_type": "execute_result"
    }
   ],
   "source": [
    "drug_gene_links.head()"
   ]
  },
  {
   "cell_type": "markdown",
   "metadata": {},
   "source": [
    "### Rename the columns"
   ]
  },
  {
   "cell_type": "code",
   "execution_count": 27,
   "metadata": {
    "collapsed": true
   },
   "outputs": [],
   "source": [
    "drug_gene_links = drug_gene_links.rename(columns = {\"drug\": \"source_node\", \"gene\": \"target_node\"})"
   ]
  },
  {
   "cell_type": "code",
   "execution_count": 28,
   "metadata": {
    "collapsed": false
   },
   "outputs": [
    {
     "data": {
      "text/html": [
       "<div>\n",
       "<table border=\"1\" class=\"dataframe\">\n",
       "  <thead>\n",
       "    <tr style=\"text-align: right;\">\n",
       "      <th></th>\n",
       "      <th>source_node</th>\n",
       "      <th>target_node</th>\n",
       "    </tr>\n",
       "  </thead>\n",
       "  <tbody>\n",
       "    <tr>\n",
       "      <th>0</th>\n",
       "      <td>Caffeine</td>\n",
       "      <td>adenosine A3 receptor</td>\n",
       "    </tr>\n",
       "    <tr>\n",
       "      <th>1</th>\n",
       "      <td>Adenosine</td>\n",
       "      <td>adenosine A3 receptor</td>\n",
       "    </tr>\n",
       "    <tr>\n",
       "      <th>2</th>\n",
       "      <td>Theophylline</td>\n",
       "      <td>adenosine A3 receptor</td>\n",
       "    </tr>\n",
       "    <tr>\n",
       "      <th>3</th>\n",
       "      <td>Nicardipine</td>\n",
       "      <td>adenosine A3 receptor</td>\n",
       "    </tr>\n",
       "    <tr>\n",
       "      <th>4</th>\n",
       "      <td>Istradefylline</td>\n",
       "      <td>adenosine A3 receptor</td>\n",
       "    </tr>\n",
       "  </tbody>\n",
       "</table>\n",
       "</div>"
      ],
      "text/plain": [
       "      source_node            target_node\n",
       "0        Caffeine  adenosine A3 receptor\n",
       "1       Adenosine  adenosine A3 receptor\n",
       "2    Theophylline  adenosine A3 receptor\n",
       "3     Nicardipine  adenosine A3 receptor\n",
       "4  Istradefylline  adenosine A3 receptor"
      ]
     },
     "execution_count": 28,
     "metadata": {},
     "output_type": "execute_result"
    }
   ],
   "source": [
    "drug_gene_links.head()"
   ]
  },
  {
   "cell_type": "markdown",
   "metadata": {},
   "source": [
    "### Create a new column specifying the source node type"
   ]
  },
  {
   "cell_type": "code",
   "execution_count": 29,
   "metadata": {
    "collapsed": true
   },
   "outputs": [],
   "source": [
    "drug_gene_links[\"source_type\"] = \"drug\""
   ]
  },
  {
   "cell_type": "code",
   "execution_count": 30,
   "metadata": {
    "collapsed": false
   },
   "outputs": [
    {
     "data": {
      "text/html": [
       "<div>\n",
       "<table border=\"1\" class=\"dataframe\">\n",
       "  <thead>\n",
       "    <tr style=\"text-align: right;\">\n",
       "      <th></th>\n",
       "      <th>source_node</th>\n",
       "      <th>target_node</th>\n",
       "      <th>source_type</th>\n",
       "    </tr>\n",
       "  </thead>\n",
       "  <tbody>\n",
       "    <tr>\n",
       "      <th>0</th>\n",
       "      <td>Caffeine</td>\n",
       "      <td>adenosine A3 receptor</td>\n",
       "      <td>drug</td>\n",
       "    </tr>\n",
       "    <tr>\n",
       "      <th>1</th>\n",
       "      <td>Adenosine</td>\n",
       "      <td>adenosine A3 receptor</td>\n",
       "      <td>drug</td>\n",
       "    </tr>\n",
       "    <tr>\n",
       "      <th>2</th>\n",
       "      <td>Theophylline</td>\n",
       "      <td>adenosine A3 receptor</td>\n",
       "      <td>drug</td>\n",
       "    </tr>\n",
       "    <tr>\n",
       "      <th>3</th>\n",
       "      <td>Nicardipine</td>\n",
       "      <td>adenosine A3 receptor</td>\n",
       "      <td>drug</td>\n",
       "    </tr>\n",
       "    <tr>\n",
       "      <th>4</th>\n",
       "      <td>Istradefylline</td>\n",
       "      <td>adenosine A3 receptor</td>\n",
       "      <td>drug</td>\n",
       "    </tr>\n",
       "  </tbody>\n",
       "</table>\n",
       "</div>"
      ],
      "text/plain": [
       "      source_node            target_node source_type\n",
       "0        Caffeine  adenosine A3 receptor        drug\n",
       "1       Adenosine  adenosine A3 receptor        drug\n",
       "2    Theophylline  adenosine A3 receptor        drug\n",
       "3     Nicardipine  adenosine A3 receptor        drug\n",
       "4  Istradefylline  adenosine A3 receptor        drug"
      ]
     },
     "execution_count": 30,
     "metadata": {},
     "output_type": "execute_result"
    }
   ],
   "source": [
    "drug_gene_links.head()"
   ]
  },
  {
   "cell_type": "markdown",
   "metadata": {},
   "source": [
    "### Create a new column containing the edge type"
   ]
  },
  {
   "cell_type": "code",
   "execution_count": 31,
   "metadata": {
    "collapsed": true
   },
   "outputs": [],
   "source": [
    "drug_gene_links[\"edge_type\"] = \"interacts_with\""
   ]
  },
  {
   "cell_type": "code",
   "execution_count": 32,
   "metadata": {
    "collapsed": false
   },
   "outputs": [
    {
     "data": {
      "text/html": [
       "<div>\n",
       "<table border=\"1\" class=\"dataframe\">\n",
       "  <thead>\n",
       "    <tr style=\"text-align: right;\">\n",
       "      <th></th>\n",
       "      <th>source_node</th>\n",
       "      <th>target_node</th>\n",
       "      <th>source_type</th>\n",
       "      <th>edge_type</th>\n",
       "    </tr>\n",
       "  </thead>\n",
       "  <tbody>\n",
       "    <tr>\n",
       "      <th>0</th>\n",
       "      <td>Caffeine</td>\n",
       "      <td>adenosine A3 receptor</td>\n",
       "      <td>drug</td>\n",
       "      <td>interacts_with</td>\n",
       "    </tr>\n",
       "    <tr>\n",
       "      <th>1</th>\n",
       "      <td>Adenosine</td>\n",
       "      <td>adenosine A3 receptor</td>\n",
       "      <td>drug</td>\n",
       "      <td>interacts_with</td>\n",
       "    </tr>\n",
       "    <tr>\n",
       "      <th>2</th>\n",
       "      <td>Theophylline</td>\n",
       "      <td>adenosine A3 receptor</td>\n",
       "      <td>drug</td>\n",
       "      <td>interacts_with</td>\n",
       "    </tr>\n",
       "    <tr>\n",
       "      <th>3</th>\n",
       "      <td>Nicardipine</td>\n",
       "      <td>adenosine A3 receptor</td>\n",
       "      <td>drug</td>\n",
       "      <td>interacts_with</td>\n",
       "    </tr>\n",
       "    <tr>\n",
       "      <th>4</th>\n",
       "      <td>Istradefylline</td>\n",
       "      <td>adenosine A3 receptor</td>\n",
       "      <td>drug</td>\n",
       "      <td>interacts_with</td>\n",
       "    </tr>\n",
       "  </tbody>\n",
       "</table>\n",
       "</div>"
      ],
      "text/plain": [
       "      source_node            target_node source_type       edge_type\n",
       "0        Caffeine  adenosine A3 receptor        drug  interacts_with\n",
       "1       Adenosine  adenosine A3 receptor        drug  interacts_with\n",
       "2    Theophylline  adenosine A3 receptor        drug  interacts_with\n",
       "3     Nicardipine  adenosine A3 receptor        drug  interacts_with\n",
       "4  Istradefylline  adenosine A3 receptor        drug  interacts_with"
      ]
     },
     "execution_count": 32,
     "metadata": {},
     "output_type": "execute_result"
    }
   ],
   "source": [
    "drug_gene_links.head()"
   ]
  },
  {
   "cell_type": "markdown",
   "metadata": {},
   "source": [
    "### Create a new column containing the target type"
   ]
  },
  {
   "cell_type": "code",
   "execution_count": 33,
   "metadata": {
    "collapsed": true
   },
   "outputs": [],
   "source": [
    "drug_gene_links[\"target_type\"] = \"gene\""
   ]
  },
  {
   "cell_type": "code",
   "execution_count": 34,
   "metadata": {
    "collapsed": false
   },
   "outputs": [
    {
     "data": {
      "text/html": [
       "<div>\n",
       "<table border=\"1\" class=\"dataframe\">\n",
       "  <thead>\n",
       "    <tr style=\"text-align: right;\">\n",
       "      <th></th>\n",
       "      <th>source_node</th>\n",
       "      <th>target_node</th>\n",
       "      <th>source_type</th>\n",
       "      <th>edge_type</th>\n",
       "      <th>target_type</th>\n",
       "    </tr>\n",
       "  </thead>\n",
       "  <tbody>\n",
       "    <tr>\n",
       "      <th>0</th>\n",
       "      <td>Caffeine</td>\n",
       "      <td>adenosine A3 receptor</td>\n",
       "      <td>drug</td>\n",
       "      <td>interacts_with</td>\n",
       "      <td>gene</td>\n",
       "    </tr>\n",
       "    <tr>\n",
       "      <th>1</th>\n",
       "      <td>Adenosine</td>\n",
       "      <td>adenosine A3 receptor</td>\n",
       "      <td>drug</td>\n",
       "      <td>interacts_with</td>\n",
       "      <td>gene</td>\n",
       "    </tr>\n",
       "    <tr>\n",
       "      <th>2</th>\n",
       "      <td>Theophylline</td>\n",
       "      <td>adenosine A3 receptor</td>\n",
       "      <td>drug</td>\n",
       "      <td>interacts_with</td>\n",
       "      <td>gene</td>\n",
       "    </tr>\n",
       "    <tr>\n",
       "      <th>3</th>\n",
       "      <td>Nicardipine</td>\n",
       "      <td>adenosine A3 receptor</td>\n",
       "      <td>drug</td>\n",
       "      <td>interacts_with</td>\n",
       "      <td>gene</td>\n",
       "    </tr>\n",
       "    <tr>\n",
       "      <th>4</th>\n",
       "      <td>Istradefylline</td>\n",
       "      <td>adenosine A3 receptor</td>\n",
       "      <td>drug</td>\n",
       "      <td>interacts_with</td>\n",
       "      <td>gene</td>\n",
       "    </tr>\n",
       "  </tbody>\n",
       "</table>\n",
       "</div>"
      ],
      "text/plain": [
       "      source_node            target_node source_type       edge_type  \\\n",
       "0        Caffeine  adenosine A3 receptor        drug  interacts_with   \n",
       "1       Adenosine  adenosine A3 receptor        drug  interacts_with   \n",
       "2    Theophylline  adenosine A3 receptor        drug  interacts_with   \n",
       "3     Nicardipine  adenosine A3 receptor        drug  interacts_with   \n",
       "4  Istradefylline  adenosine A3 receptor        drug  interacts_with   \n",
       "\n",
       "  target_type  \n",
       "0        gene  \n",
       "1        gene  \n",
       "2        gene  \n",
       "3        gene  \n",
       "4        gene  "
      ]
     },
     "execution_count": 34,
     "metadata": {},
     "output_type": "execute_result"
    }
   ],
   "source": [
    "drug_gene_links.head()"
   ]
  },
  {
   "cell_type": "markdown",
   "metadata": {},
   "source": [
    "## Repeat for disease gene pairs"
   ]
  },
  {
   "cell_type": "code",
   "execution_count": 35,
   "metadata": {
    "collapsed": true
   },
   "outputs": [],
   "source": [
    "disease_gene_links = simple_table[[\"disease\", \"gene\"]]"
   ]
  },
  {
   "cell_type": "code",
   "execution_count": 36,
   "metadata": {
    "collapsed": false
   },
   "outputs": [
    {
     "data": {
      "text/html": [
       "<div>\n",
       "<table border=\"1\" class=\"dataframe\">\n",
       "  <thead>\n",
       "    <tr style=\"text-align: right;\">\n",
       "      <th></th>\n",
       "      <th>disease</th>\n",
       "      <th>gene</th>\n",
       "    </tr>\n",
       "  </thead>\n",
       "  <tbody>\n",
       "    <tr>\n",
       "      <th>0</th>\n",
       "      <td>obesity</td>\n",
       "      <td>adenosine A3 receptor</td>\n",
       "    </tr>\n",
       "    <tr>\n",
       "      <th>1</th>\n",
       "      <td>obesity</td>\n",
       "      <td>adenosine A3 receptor</td>\n",
       "    </tr>\n",
       "    <tr>\n",
       "      <th>2</th>\n",
       "      <td>obesity</td>\n",
       "      <td>adenosine A3 receptor</td>\n",
       "    </tr>\n",
       "    <tr>\n",
       "      <th>3</th>\n",
       "      <td>obesity</td>\n",
       "      <td>adenosine A3 receptor</td>\n",
       "    </tr>\n",
       "    <tr>\n",
       "      <th>4</th>\n",
       "      <td>obesity</td>\n",
       "      <td>adenosine A3 receptor</td>\n",
       "    </tr>\n",
       "  </tbody>\n",
       "</table>\n",
       "</div>"
      ],
      "text/plain": [
       "   disease                   gene\n",
       "0  obesity  adenosine A3 receptor\n",
       "1  obesity  adenosine A3 receptor\n",
       "2  obesity  adenosine A3 receptor\n",
       "3  obesity  adenosine A3 receptor\n",
       "4  obesity  adenosine A3 receptor"
      ]
     },
     "execution_count": 36,
     "metadata": {},
     "output_type": "execute_result"
    }
   ],
   "source": [
    "disease_gene_links.head()"
   ]
  },
  {
   "cell_type": "markdown",
   "metadata": {},
   "source": [
    "## Rename the columns"
   ]
  },
  {
   "cell_type": "code",
   "execution_count": 37,
   "metadata": {
    "collapsed": true
   },
   "outputs": [],
   "source": [
    "disease_gene_links = disease_gene_links.rename(columns = {\"disease\": \"source_node\", \"gene\": \"target_node\"})"
   ]
  },
  {
   "cell_type": "code",
   "execution_count": 38,
   "metadata": {
    "collapsed": false
   },
   "outputs": [
    {
     "data": {
      "text/html": [
       "<div>\n",
       "<table border=\"1\" class=\"dataframe\">\n",
       "  <thead>\n",
       "    <tr style=\"text-align: right;\">\n",
       "      <th></th>\n",
       "      <th>source_node</th>\n",
       "      <th>target_node</th>\n",
       "    </tr>\n",
       "  </thead>\n",
       "  <tbody>\n",
       "    <tr>\n",
       "      <th>0</th>\n",
       "      <td>obesity</td>\n",
       "      <td>adenosine A3 receptor</td>\n",
       "    </tr>\n",
       "    <tr>\n",
       "      <th>1</th>\n",
       "      <td>obesity</td>\n",
       "      <td>adenosine A3 receptor</td>\n",
       "    </tr>\n",
       "    <tr>\n",
       "      <th>2</th>\n",
       "      <td>obesity</td>\n",
       "      <td>adenosine A3 receptor</td>\n",
       "    </tr>\n",
       "    <tr>\n",
       "      <th>3</th>\n",
       "      <td>obesity</td>\n",
       "      <td>adenosine A3 receptor</td>\n",
       "    </tr>\n",
       "    <tr>\n",
       "      <th>4</th>\n",
       "      <td>obesity</td>\n",
       "      <td>adenosine A3 receptor</td>\n",
       "    </tr>\n",
       "  </tbody>\n",
       "</table>\n",
       "</div>"
      ],
      "text/plain": [
       "  source_node            target_node\n",
       "0     obesity  adenosine A3 receptor\n",
       "1     obesity  adenosine A3 receptor\n",
       "2     obesity  adenosine A3 receptor\n",
       "3     obesity  adenosine A3 receptor\n",
       "4     obesity  adenosine A3 receptor"
      ]
     },
     "execution_count": 38,
     "metadata": {},
     "output_type": "execute_result"
    }
   ],
   "source": [
    "disease_gene_links.head()"
   ]
  },
  {
   "cell_type": "markdown",
   "metadata": {},
   "source": [
    "### Create the new columns"
   ]
  },
  {
   "cell_type": "code",
   "execution_count": 39,
   "metadata": {
    "collapsed": true
   },
   "outputs": [],
   "source": [
    "disease_gene_links[\"source_type\"] = \"disease\"\n",
    "disease_gene_links[\"edge_type\"] = \"associated_with\"\n",
    "disease_gene_links[\"target_type\"] = \"gene\""
   ]
  },
  {
   "cell_type": "code",
   "execution_count": 40,
   "metadata": {
    "collapsed": false
   },
   "outputs": [
    {
     "data": {
      "text/html": [
       "<div>\n",
       "<table border=\"1\" class=\"dataframe\">\n",
       "  <thead>\n",
       "    <tr style=\"text-align: right;\">\n",
       "      <th></th>\n",
       "      <th>source_node</th>\n",
       "      <th>target_node</th>\n",
       "      <th>source_type</th>\n",
       "      <th>edge_type</th>\n",
       "      <th>target_type</th>\n",
       "    </tr>\n",
       "  </thead>\n",
       "  <tbody>\n",
       "    <tr>\n",
       "      <th>0</th>\n",
       "      <td>obesity</td>\n",
       "      <td>adenosine A3 receptor</td>\n",
       "      <td>disease</td>\n",
       "      <td>associated_with</td>\n",
       "      <td>gene</td>\n",
       "    </tr>\n",
       "    <tr>\n",
       "      <th>1</th>\n",
       "      <td>obesity</td>\n",
       "      <td>adenosine A3 receptor</td>\n",
       "      <td>disease</td>\n",
       "      <td>associated_with</td>\n",
       "      <td>gene</td>\n",
       "    </tr>\n",
       "    <tr>\n",
       "      <th>2</th>\n",
       "      <td>obesity</td>\n",
       "      <td>adenosine A3 receptor</td>\n",
       "      <td>disease</td>\n",
       "      <td>associated_with</td>\n",
       "      <td>gene</td>\n",
       "    </tr>\n",
       "    <tr>\n",
       "      <th>3</th>\n",
       "      <td>obesity</td>\n",
       "      <td>adenosine A3 receptor</td>\n",
       "      <td>disease</td>\n",
       "      <td>associated_with</td>\n",
       "      <td>gene</td>\n",
       "    </tr>\n",
       "    <tr>\n",
       "      <th>4</th>\n",
       "      <td>obesity</td>\n",
       "      <td>adenosine A3 receptor</td>\n",
       "      <td>disease</td>\n",
       "      <td>associated_with</td>\n",
       "      <td>gene</td>\n",
       "    </tr>\n",
       "  </tbody>\n",
       "</table>\n",
       "</div>"
      ],
      "text/plain": [
       "  source_node            target_node source_type        edge_type target_type\n",
       "0     obesity  adenosine A3 receptor     disease  associated_with        gene\n",
       "1     obesity  adenosine A3 receptor     disease  associated_with        gene\n",
       "2     obesity  adenosine A3 receptor     disease  associated_with        gene\n",
       "3     obesity  adenosine A3 receptor     disease  associated_with        gene\n",
       "4     obesity  adenosine A3 receptor     disease  associated_with        gene"
      ]
     },
     "execution_count": 40,
     "metadata": {},
     "output_type": "execute_result"
    }
   ],
   "source": [
    "disease_gene_links.head()"
   ]
  },
  {
   "cell_type": "markdown",
   "metadata": {},
   "source": [
    "# Join the (disease, gene) and (drug, gene) tables together"
   ]
  },
  {
   "cell_type": "markdown",
   "metadata": {},
   "source": [
    "### Number of rows of each table"
   ]
  },
  {
   "cell_type": "code",
   "execution_count": 41,
   "metadata": {
    "collapsed": false
   },
   "outputs": [
    {
     "data": {
      "text/plain": [
       "595"
      ]
     },
     "execution_count": 41,
     "metadata": {},
     "output_type": "execute_result"
    }
   ],
   "source": [
    "len(drug_gene_links)"
   ]
  },
  {
   "cell_type": "code",
   "execution_count": 42,
   "metadata": {
    "collapsed": false
   },
   "outputs": [
    {
     "data": {
      "text/plain": [
       "595"
      ]
     },
     "execution_count": 42,
     "metadata": {},
     "output_type": "execute_result"
    }
   ],
   "source": [
    "len(disease_gene_links)"
   ]
  },
  {
   "cell_type": "markdown",
   "metadata": {},
   "source": [
    "### Join two tables together"
   ]
  },
  {
   "cell_type": "code",
   "execution_count": 43,
   "metadata": {
    "collapsed": true
   },
   "outputs": [],
   "source": [
    "cytoscape_edges = pd.concat([drug_gene_links, disease_gene_links])"
   ]
  },
  {
   "cell_type": "code",
   "execution_count": 44,
   "metadata": {
    "collapsed": false
   },
   "outputs": [
    {
     "data": {
      "text/html": [
       "<div>\n",
       "<table border=\"1\" class=\"dataframe\">\n",
       "  <thead>\n",
       "    <tr style=\"text-align: right;\">\n",
       "      <th></th>\n",
       "      <th>source_node</th>\n",
       "      <th>target_node</th>\n",
       "      <th>source_type</th>\n",
       "      <th>edge_type</th>\n",
       "      <th>target_type</th>\n",
       "    </tr>\n",
       "  </thead>\n",
       "  <tbody>\n",
       "    <tr>\n",
       "      <th>0</th>\n",
       "      <td>Caffeine</td>\n",
       "      <td>adenosine A3 receptor</td>\n",
       "      <td>drug</td>\n",
       "      <td>interacts_with</td>\n",
       "      <td>gene</td>\n",
       "    </tr>\n",
       "    <tr>\n",
       "      <th>1</th>\n",
       "      <td>Adenosine</td>\n",
       "      <td>adenosine A3 receptor</td>\n",
       "      <td>drug</td>\n",
       "      <td>interacts_with</td>\n",
       "      <td>gene</td>\n",
       "    </tr>\n",
       "    <tr>\n",
       "      <th>2</th>\n",
       "      <td>Theophylline</td>\n",
       "      <td>adenosine A3 receptor</td>\n",
       "      <td>drug</td>\n",
       "      <td>interacts_with</td>\n",
       "      <td>gene</td>\n",
       "    </tr>\n",
       "    <tr>\n",
       "      <th>3</th>\n",
       "      <td>Nicardipine</td>\n",
       "      <td>adenosine A3 receptor</td>\n",
       "      <td>drug</td>\n",
       "      <td>interacts_with</td>\n",
       "      <td>gene</td>\n",
       "    </tr>\n",
       "    <tr>\n",
       "      <th>4</th>\n",
       "      <td>Istradefylline</td>\n",
       "      <td>adenosine A3 receptor</td>\n",
       "      <td>drug</td>\n",
       "      <td>interacts_with</td>\n",
       "      <td>gene</td>\n",
       "    </tr>\n",
       "  </tbody>\n",
       "</table>\n",
       "</div>"
      ],
      "text/plain": [
       "      source_node            target_node source_type       edge_type  \\\n",
       "0        Caffeine  adenosine A3 receptor        drug  interacts_with   \n",
       "1       Adenosine  adenosine A3 receptor        drug  interacts_with   \n",
       "2    Theophylline  adenosine A3 receptor        drug  interacts_with   \n",
       "3     Nicardipine  adenosine A3 receptor        drug  interacts_with   \n",
       "4  Istradefylline  adenosine A3 receptor        drug  interacts_with   \n",
       "\n",
       "  target_type  \n",
       "0        gene  \n",
       "1        gene  \n",
       "2        gene  \n",
       "3        gene  \n",
       "4        gene  "
      ]
     },
     "execution_count": 44,
     "metadata": {},
     "output_type": "execute_result"
    }
   ],
   "source": [
    "cytoscape_edges.head()"
   ]
  },
  {
   "cell_type": "code",
   "execution_count": 45,
   "metadata": {
    "collapsed": false
   },
   "outputs": [
    {
     "data": {
      "text/plain": [
       "1190"
      ]
     },
     "execution_count": 45,
     "metadata": {},
     "output_type": "execute_result"
    }
   ],
   "source": [
    "len(cytoscape_edges)"
   ]
  },
  {
   "cell_type": "markdown",
   "metadata": {},
   "source": [
    "Note that the final result has 1190 (= 595 * 2) rows."
   ]
  },
  {
   "cell_type": "markdown",
   "metadata": {},
   "source": [
    "### Reorder columns"
   ]
  },
  {
   "cell_type": "code",
   "execution_count": 46,
   "metadata": {
    "collapsed": true
   },
   "outputs": [],
   "source": [
    "cytoscape_edges = cytoscape_edges[[\"source_node\", \"source_type\", \"edge_type\", \"target_node\", \"target_type\"]]"
   ]
  },
  {
   "cell_type": "code",
   "execution_count": 47,
   "metadata": {
    "collapsed": false
   },
   "outputs": [
    {
     "data": {
      "text/html": [
       "<div>\n",
       "<table border=\"1\" class=\"dataframe\">\n",
       "  <thead>\n",
       "    <tr style=\"text-align: right;\">\n",
       "      <th></th>\n",
       "      <th>source_node</th>\n",
       "      <th>source_type</th>\n",
       "      <th>edge_type</th>\n",
       "      <th>target_node</th>\n",
       "      <th>target_type</th>\n",
       "    </tr>\n",
       "  </thead>\n",
       "  <tbody>\n",
       "    <tr>\n",
       "      <th>0</th>\n",
       "      <td>Caffeine</td>\n",
       "      <td>drug</td>\n",
       "      <td>interacts_with</td>\n",
       "      <td>adenosine A3 receptor</td>\n",
       "      <td>gene</td>\n",
       "    </tr>\n",
       "    <tr>\n",
       "      <th>1</th>\n",
       "      <td>Adenosine</td>\n",
       "      <td>drug</td>\n",
       "      <td>interacts_with</td>\n",
       "      <td>adenosine A3 receptor</td>\n",
       "      <td>gene</td>\n",
       "    </tr>\n",
       "    <tr>\n",
       "      <th>2</th>\n",
       "      <td>Theophylline</td>\n",
       "      <td>drug</td>\n",
       "      <td>interacts_with</td>\n",
       "      <td>adenosine A3 receptor</td>\n",
       "      <td>gene</td>\n",
       "    </tr>\n",
       "    <tr>\n",
       "      <th>3</th>\n",
       "      <td>Nicardipine</td>\n",
       "      <td>drug</td>\n",
       "      <td>interacts_with</td>\n",
       "      <td>adenosine A3 receptor</td>\n",
       "      <td>gene</td>\n",
       "    </tr>\n",
       "    <tr>\n",
       "      <th>4</th>\n",
       "      <td>Istradefylline</td>\n",
       "      <td>drug</td>\n",
       "      <td>interacts_with</td>\n",
       "      <td>adenosine A3 receptor</td>\n",
       "      <td>gene</td>\n",
       "    </tr>\n",
       "  </tbody>\n",
       "</table>\n",
       "</div>"
      ],
      "text/plain": [
       "      source_node source_type       edge_type            target_node  \\\n",
       "0        Caffeine        drug  interacts_with  adenosine A3 receptor   \n",
       "1       Adenosine        drug  interacts_with  adenosine A3 receptor   \n",
       "2    Theophylline        drug  interacts_with  adenosine A3 receptor   \n",
       "3     Nicardipine        drug  interacts_with  adenosine A3 receptor   \n",
       "4  Istradefylline        drug  interacts_with  adenosine A3 receptor   \n",
       "\n",
       "  target_type  \n",
       "0        gene  \n",
       "1        gene  \n",
       "2        gene  \n",
       "3        gene  \n",
       "4        gene  "
      ]
     },
     "execution_count": 47,
     "metadata": {},
     "output_type": "execute_result"
    }
   ],
   "source": [
    "cytoscape_edges.head()"
   ]
  },
  {
   "cell_type": "markdown",
   "metadata": {},
   "source": [
    "## Save file to disk"
   ]
  },
  {
   "cell_type": "code",
   "execution_count": 48,
   "metadata": {
    "collapsed": true
   },
   "outputs": [],
   "source": [
    "cytoscape_edges.to_csv(\"drug_gene_disease_network.txt\", sep = '\\t', index = False)"
   ]
  }
 ],
 "metadata": {
  "kernelspec": {
   "display_name": "Python 3",
   "language": "python",
   "name": "python3"
  },
  "language_info": {
   "codemirror_mode": {
    "name": "ipython",
    "version": 3
   },
   "file_extension": ".py",
   "mimetype": "text/x-python",
   "name": "python",
   "nbconvert_exporter": "python",
   "pygments_lexer": "ipython3",
   "version": "3.4.3"
  }
 },
 "nbformat": 4,
 "nbformat_minor": 0
}
